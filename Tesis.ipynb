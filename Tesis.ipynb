{
 "cells": [
  {
   "cell_type": "markdown",
   "id": "774f86c9-1698-4f46-bc7b-060834bc3db8",
   "metadata": {},
   "source": [
    "Importe de Librerias necesarias"
   ]
  },
  {
   "cell_type": "code",
   "execution_count": 1,
   "id": "651e6f73-4f48-4dd7-b9b4-b2a47cc773c6",
   "metadata": {},
   "outputs": [],
   "source": [
    "import requests\n",
    "import pandas as pd\n",
    "import numpy as np\n",
    "from sodapy import Socrata"
   ]
  },
  {
   "cell_type": "code",
   "execution_count": 2,
   "id": "6e9280e6-6e3c-4d6b-af9d-9735939a3b80",
   "metadata": {},
   "outputs": [],
   "source": [
    "# Define una función para calcular todas las estadísticas descriptivas a la vez\n",
    "def all_descriptive_stats(x):\n",
    "    return pd.Series({\n",
    "        'media': x.mean(),\n",
    "        'conteo':x.count(),\n",
    "        'mediana': x.median(),\n",
    "        'máximo': x.max(),\n",
    "        'mínimo': x.min(),\n",
    "        'desviación estándar': x.std()\n",
    "    })\n"
   ]
  },
  {
   "cell_type": "code",
   "execution_count": 3,
   "id": "9b3388c1-03b7-455b-a45e-ca615f816669",
   "metadata": {},
   "outputs": [],
   "source": [
    "# API Key y Secret Key de tu aplicación\n",
    "#api_key = \"7fvwglwfbxf8uvq31kig8c2rq\"\n",
    "#secret_key = \"64ufk2q2w5ebms16g3c78ibnvjsl6uqx9mqsyk1ljmex83k9p0\"\n",
    "\n",
    "# Nombre de usuario y contraseña para autenticación (si es necesario)\n",
    "username = \"jordan.cuchigay@hotmail.com\"\n",
    "password = \"18deNoviembre\"\n",
    "\n",
    "# Inicializa el cliente autenticado con API Key y Secret Key\n",
    "client = Socrata(\"www.datos.gov.co\",\n",
    "                 app_token=\"h5p7DRao1OXhVf8iJ6loA6TbN\",\n",
    "                 username=username,\n",
    "                 password=password)\n",
    "\n",
    "# Parámetros para filtrar la solicitud (en este caso, departamento=AMAZONAS)\n",
    "filtro = \"departamento='ANTIOQUIA'\"\n",
    "\n",
    "\n"
   ]
  },
  {
   "cell_type": "code",
   "execution_count": 5,
   "id": "eb990638-5e88-414c-b820-26d1a053e9cc",
   "metadata": {},
   "outputs": [],
   "source": [
    "# Realiza la solicitud GET a la API con el filtro especificado\n",
    "results_viento = client.get(\"sgfv-3yp8\", where=filtro,limit=10000)\n",
    "\n",
    "# Convertir a DataFrame de Pandas\n",
    "df_viento = pd.DataFrame.from_records(results_viento)"
   ]
  },
  {
   "cell_type": "code",
   "execution_count": 6,
   "id": "d52e5ed8-c421-4e43-8f78-5bb3f34660c4",
   "metadata": {},
   "outputs": [],
   "source": [
    "# Convierte la columna 'fechaobservacion' al tipo de dato de fecha\n",
    "df_viento['fechaobservacion'] = pd.to_datetime(df_viento['fechaobservacion'])\n",
    "# Extrae el año de la columna 'fechaobservacion' y crea una nueva columna 'año'\n",
    "df_viento['año'] = df_viento['fechaobservacion'].dt.year\n",
    "# Convertir la columna 'valorobservado' a tipo numérico, tratando los errores como NaN\n",
    "df_viento['valorobservado'] = pd.to_numeric(df_viento['valorobservado'], errors='coerce')"
   ]
  },
  {
   "cell_type": "code",
   "execution_count": 8,
   "id": "1cd17982-c9e3-461d-9a99-1f118e379b31",
   "metadata": {},
   "outputs": [],
   "source": [
    "# Agrupa los datos por año y municipio y calcula todas las estadísticas descriptivas de 'valorobservado'\n",
    "estadisticas_viento = df_viento.groupby(['año', 'municipio'])['valorobservado'].apply(all_descriptive_stats)\n",
    "\n",
    "# Restablece el índice para que los grupos se conviertan en columnas\n",
    "estadisticas_viento = estadisticas_viento.reset_index()\n",
    "\n",
    "\n",
    "# Pivotea la tabla para que cada estadístico sea una columna separada\n",
    "estadisticas_pivot_viento = estadisticas_viento.pivot_table(index=['año', 'municipio'], columns='level_2', values='valorobservado')\n",
    "\n",
    "# Reinicia el índice para obtener un DataFrame plano\n",
    "estadisticas_pivot_viento.reset_index(inplace=True)\n"
   ]
  },
  {
   "cell_type": "code",
   "execution_count": 10,
   "id": "810741ba-6fa2-423b-b4a3-61466873760c",
   "metadata": {
    "scrolled": true
   },
   "outputs": [
    {
     "data": {
      "text/html": [
       "<div>\n",
       "<style scoped>\n",
       "    .dataframe tbody tr th:only-of-type {\n",
       "        vertical-align: middle;\n",
       "    }\n",
       "\n",
       "    .dataframe tbody tr th {\n",
       "        vertical-align: top;\n",
       "    }\n",
       "\n",
       "    .dataframe thead th {\n",
       "        text-align: right;\n",
       "    }\n",
       "</style>\n",
       "<table border=\"1\" class=\"dataframe\">\n",
       "  <thead>\n",
       "    <tr style=\"text-align: right;\">\n",
       "      <th>level_2</th>\n",
       "      <th>año</th>\n",
       "      <th>municipio</th>\n",
       "      <th>conteo</th>\n",
       "      <th>desviación estándar</th>\n",
       "      <th>media</th>\n",
       "      <th>mediana</th>\n",
       "      <th>máximo</th>\n",
       "      <th>mínimo</th>\n",
       "    </tr>\n",
       "  </thead>\n",
       "  <tbody>\n",
       "    <tr>\n",
       "      <th>0</th>\n",
       "      <td>2005</td>\n",
       "      <td>BELLO</td>\n",
       "      <td>45.0</td>\n",
       "      <td>1.336190</td>\n",
       "      <td>2.077778</td>\n",
       "      <td>1.7</td>\n",
       "      <td>6.1</td>\n",
       "      <td>0.3</td>\n",
       "    </tr>\n",
       "    <tr>\n",
       "      <th>1</th>\n",
       "      <td>2005</td>\n",
       "      <td>CHIGORODÓ</td>\n",
       "      <td>28.0</td>\n",
       "      <td>1.212196</td>\n",
       "      <td>1.985714</td>\n",
       "      <td>1.8</td>\n",
       "      <td>6.1</td>\n",
       "      <td>0.6</td>\n",
       "    </tr>\n",
       "    <tr>\n",
       "      <th>2</th>\n",
       "      <td>2005</td>\n",
       "      <td>ENTRERRIOS</td>\n",
       "      <td>21.0</td>\n",
       "      <td>1.604725</td>\n",
       "      <td>3.028571</td>\n",
       "      <td>2.9</td>\n",
       "      <td>7.1</td>\n",
       "      <td>0.8</td>\n",
       "    </tr>\n",
       "    <tr>\n",
       "      <th>3</th>\n",
       "      <td>2005</td>\n",
       "      <td>JERICÓ</td>\n",
       "      <td>18.0</td>\n",
       "      <td>1.121565</td>\n",
       "      <td>2.055556</td>\n",
       "      <td>1.8</td>\n",
       "      <td>4.8</td>\n",
       "      <td>0.7</td>\n",
       "    </tr>\n",
       "    <tr>\n",
       "      <th>4</th>\n",
       "      <td>2005</td>\n",
       "      <td>MEDELLÍN</td>\n",
       "      <td>15.0</td>\n",
       "      <td>0.948432</td>\n",
       "      <td>1.633333</td>\n",
       "      <td>1.3</td>\n",
       "      <td>4.0</td>\n",
       "      <td>0.6</td>\n",
       "    </tr>\n",
       "  </tbody>\n",
       "</table>\n",
       "</div>"
      ],
      "text/plain": [
       "level_2   año   municipio  conteo  desviación estándar     media  mediana  \\\n",
       "0        2005       BELLO    45.0             1.336190  2.077778      1.7   \n",
       "1        2005   CHIGORODÓ    28.0             1.212196  1.985714      1.8   \n",
       "2        2005  ENTRERRIOS    21.0             1.604725  3.028571      2.9   \n",
       "3        2005      JERICÓ    18.0             1.121565  2.055556      1.8   \n",
       "4        2005    MEDELLÍN    15.0             0.948432  1.633333      1.3   \n",
       "\n",
       "level_2  máximo  mínimo  \n",
       "0           6.1     0.3  \n",
       "1           6.1     0.6  \n",
       "2           7.1     0.8  \n",
       "3           4.8     0.7  \n",
       "4           4.0     0.6  "
      ]
     },
     "execution_count": 10,
     "metadata": {},
     "output_type": "execute_result"
    }
   ],
   "source": [
    "estadisticas_pivot_viento.head()"
   ]
  },
  {
   "cell_type": "markdown",
   "id": "50890638-0a06-4573-80b6-9ffc70f2f3b7",
   "metadata": {},
   "source": [
    "Data Lluvia"
   ]
  },
  {
   "cell_type": "code",
   "execution_count": 11,
   "id": "c65f2baf-7576-4b96-9884-922eb24aeed8",
   "metadata": {},
   "outputs": [],
   "source": [
    "\n",
    "# Realiza la solicitud GET a la API con el filtro especificado\n",
    "results_lluvia = client.get(\"s54a-sgyg\", where=filtro,limit=10000)\n",
    "\n",
    "# Convertir a DataFrame de Pandas\n",
    "df_lluvia = pd.DataFrame.from_records(results_lluvia)"
   ]
  },
  {
   "cell_type": "code",
   "execution_count": 12,
   "id": "072bbd47-19a6-48eb-a260-6ac1f0e71e74",
   "metadata": {},
   "outputs": [],
   "source": [
    "# Convierte la columna 'fechaobservacion' al tipo de dato de fecha\n",
    "df_lluvia['fechaobservacion'] = pd.to_datetime(df_lluvia['fechaobservacion'])\n",
    "# Extrae el año de la columna 'fechaobservacion' y crea una nueva columna 'año'\n",
    "df_lluvia['año'] = df_lluvia['fechaobservacion'].dt.year\n",
    "# Convertir la columna 'valorobservado' a tipo numérico, tratando los errores como NaN\n",
    "df_lluvia['valorobservado'] = pd.to_numeric(df_lluvia['valorobservado'], errors='coerce')"
   ]
  },
  {
   "cell_type": "code",
   "execution_count": 13,
   "id": "1b649dec-1c3d-4d03-ba00-ef2b0dd8f80f",
   "metadata": {},
   "outputs": [],
   "source": [
    "# Agrupa los datos por año y municipio y calcula todas las estadísticas descriptivas de 'valorobservado'\n",
    "estadisticas_lluvia = df_lluvia.groupby(['año', 'municipio'])['valorobservado'].apply(all_descriptive_stats)\n",
    "\n",
    "# Restablece el índice para que los grupos se conviertan en columnas\n",
    "estadisticas_lluvia = estadisticas_lluvia.reset_index()\n",
    "\n",
    "\n",
    "# Pivotea la tabla para que cada estadístico sea una columna separada\n",
    "estadisticas_pivot_lluvia = estadisticas_lluvia.pivot_table(index=['año', 'municipio'], columns='level_2', values='valorobservado')\n",
    "\n",
    "# Reinicia el índice para obtener un DataFrame plano\n",
    "estadisticas_pivot_viento.reset_index(inplace=True)"
   ]
  },
  {
   "cell_type": "code",
   "execution_count": 15,
   "id": "19e4895f-f8a5-4c13-b782-96fb057bf21a",
   "metadata": {
    "scrolled": true
   },
   "outputs": [
    {
     "data": {
      "text/html": [
       "<div>\n",
       "<style scoped>\n",
       "    .dataframe tbody tr th:only-of-type {\n",
       "        vertical-align: middle;\n",
       "    }\n",
       "\n",
       "    .dataframe tbody tr th {\n",
       "        vertical-align: top;\n",
       "    }\n",
       "\n",
       "    .dataframe thead th {\n",
       "        text-align: right;\n",
       "    }\n",
       "</style>\n",
       "<table border=\"1\" class=\"dataframe\">\n",
       "  <thead>\n",
       "    <tr style=\"text-align: right;\">\n",
       "      <th></th>\n",
       "      <th>level_2</th>\n",
       "      <th>conteo</th>\n",
       "      <th>desviación estándar</th>\n",
       "      <th>media</th>\n",
       "      <th>mediana</th>\n",
       "      <th>máximo</th>\n",
       "      <th>mínimo</th>\n",
       "    </tr>\n",
       "    <tr>\n",
       "      <th>año</th>\n",
       "      <th>municipio</th>\n",
       "      <th></th>\n",
       "      <th></th>\n",
       "      <th></th>\n",
       "      <th></th>\n",
       "      <th></th>\n",
       "      <th></th>\n",
       "    </tr>\n",
       "  </thead>\n",
       "  <tbody>\n",
       "    <tr>\n",
       "      <th rowspan=\"3\" valign=\"top\">2005</th>\n",
       "      <th>CHIGORODÓ</th>\n",
       "      <td>50.0</td>\n",
       "      <td>1.464855</td>\n",
       "      <td>0.346000</td>\n",
       "      <td>0.0</td>\n",
       "      <td>7.3</td>\n",
       "      <td>0.0</td>\n",
       "    </tr>\n",
       "    <tr>\n",
       "      <th>RIONEGRO</th>\n",
       "      <td>50.0</td>\n",
       "      <td>0.246287</td>\n",
       "      <td>0.066000</td>\n",
       "      <td>0.0</td>\n",
       "      <td>1.6</td>\n",
       "      <td>0.0</td>\n",
       "    </tr>\n",
       "    <tr>\n",
       "      <th>TURBO</th>\n",
       "      <td>44.0</td>\n",
       "      <td>0.527645</td>\n",
       "      <td>0.079545</td>\n",
       "      <td>0.0</td>\n",
       "      <td>3.5</td>\n",
       "      <td>0.0</td>\n",
       "    </tr>\n",
       "    <tr>\n",
       "      <th rowspan=\"2\" valign=\"top\">2006</th>\n",
       "      <th>CHIGORODÓ</th>\n",
       "      <td>11.0</td>\n",
       "      <td>0.155505</td>\n",
       "      <td>0.072727</td>\n",
       "      <td>0.0</td>\n",
       "      <td>0.5</td>\n",
       "      <td>0.0</td>\n",
       "    </tr>\n",
       "    <tr>\n",
       "      <th>RIONEGRO</th>\n",
       "      <td>12.0</td>\n",
       "      <td>0.088763</td>\n",
       "      <td>0.033333</td>\n",
       "      <td>0.0</td>\n",
       "      <td>0.3</td>\n",
       "      <td>0.0</td>\n",
       "    </tr>\n",
       "  </tbody>\n",
       "</table>\n",
       "</div>"
      ],
      "text/plain": [
       "level_2         conteo  desviación estándar     media  mediana  máximo  mínimo\n",
       "año  municipio                                                                \n",
       "2005 CHIGORODÓ    50.0             1.464855  0.346000      0.0     7.3     0.0\n",
       "     RIONEGRO     50.0             0.246287  0.066000      0.0     1.6     0.0\n",
       "     TURBO        44.0             0.527645  0.079545      0.0     3.5     0.0\n",
       "2006 CHIGORODÓ    11.0             0.155505  0.072727      0.0     0.5     0.0\n",
       "     RIONEGRO     12.0             0.088763  0.033333      0.0     0.3     0.0"
      ]
     },
     "execution_count": 15,
     "metadata": {},
     "output_type": "execute_result"
    }
   ],
   "source": [
    "estadisticas_pivot_lluvia.head()"
   ]
  },
  {
   "cell_type": "markdown",
   "id": "eb2c94ff-7faf-455e-9d5d-e9ff8a90ead1",
   "metadata": {},
   "source": [
    "Data Presión"
   ]
  },
  {
   "cell_type": "code",
   "execution_count": 22,
   "id": "4850c644-931b-4fa2-b652-b6e8a9322017",
   "metadata": {},
   "outputs": [],
   "source": [
    "\n",
    "# Realiza la solicitud GET a la API con el filtro especificado\n",
    "results_pres = client.get(\"62tk-nxj5\", where=filtro,limit=100000)\n",
    "\n",
    "# Convertir a DataFrame de Pandas\n",
    "df_pres = pd.DataFrame.from_records(results_pres)"
   ]
  },
  {
   "cell_type": "code",
   "execution_count": 23,
   "id": "d61aab36-06dd-48ff-bfaa-032108340a60",
   "metadata": {},
   "outputs": [
    {
     "data": {
      "text/plain": [
       "100000"
      ]
     },
     "execution_count": 23,
     "metadata": {},
     "output_type": "execute_result"
    }
   ],
   "source": [
    "df_pres.shape[0]"
   ]
  },
  {
   "cell_type": "code",
   "execution_count": 24,
   "id": "cb281370-3f3f-4172-8c8c-7a3d48ee79c7",
   "metadata": {},
   "outputs": [],
   "source": [
    "# Convierte la columna 'fechaobservacion' al tipo de dato de fecha\n",
    "df_pres['fechaobservacion'] = pd.to_datetime(df_pres['fechaobservacion'])\n",
    "# Extrae el año de la columna 'fechaobservacion' y crea una nueva columna 'año'\n",
    "df_pres['año'] = df_pres['fechaobservacion'].dt.year\n",
    "# Convertir la columna 'valorobservado' a tipo numérico, tratando los errores como NaN\n",
    "df_pres['valorobservado'] = pd.to_numeric(df_pres['valorobservado'], errors='coerce')"
   ]
  },
  {
   "cell_type": "code",
   "execution_count": 25,
   "id": "4b120400-0523-47f6-a1b6-9ce22a419948",
   "metadata": {},
   "outputs": [],
   "source": [
    "# Agrupa los datos por año y municipio y calcula todas las estadísticas descriptivas de 'valorobservado'\n",
    "estadisticas_pres = df_pres.groupby(['año', 'municipio'])['valorobservado'].apply(all_descriptive_stats)\n",
    "\n",
    "# Restablece el índice para que los grupos se conviertan en columnas\n",
    "estadisticas_pres = estadisticas_pres.reset_index()\n",
    "\n",
    "\n",
    "# Pivotea la tabla para que cada estadístico sea una columna separada\n",
    "estadisticas_pivot_pres = estadisticas_pres.pivot_table(index=['año', 'municipio'], columns='level_2', values='valorobservado')\n",
    "\n",
    "# Reinicia el índice para obtener un DataFrame plano\n",
    "estadisticas_pivot_pres.reset_index(inplace=True)"
   ]
  },
  {
   "cell_type": "code",
   "execution_count": 27,
   "id": "563c91a6-dd3f-4f51-a107-8f8f00f3ec57",
   "metadata": {
    "scrolled": true
   },
   "outputs": [
    {
     "data": {
      "text/html": [
       "<div>\n",
       "<style scoped>\n",
       "    .dataframe tbody tr th:only-of-type {\n",
       "        vertical-align: middle;\n",
       "    }\n",
       "\n",
       "    .dataframe tbody tr th {\n",
       "        vertical-align: top;\n",
       "    }\n",
       "\n",
       "    .dataframe thead th {\n",
       "        text-align: right;\n",
       "    }\n",
       "</style>\n",
       "<table border=\"1\" class=\"dataframe\">\n",
       "  <thead>\n",
       "    <tr style=\"text-align: right;\">\n",
       "      <th>level_2</th>\n",
       "      <th>año</th>\n",
       "      <th>municipio</th>\n",
       "      <th>conteo</th>\n",
       "      <th>desviación estándar</th>\n",
       "      <th>media</th>\n",
       "      <th>mediana</th>\n",
       "      <th>máximo</th>\n",
       "      <th>mínimo</th>\n",
       "    </tr>\n",
       "  </thead>\n",
       "  <tbody>\n",
       "    <tr>\n",
       "      <th>0</th>\n",
       "      <td>2005</td>\n",
       "      <td>BELLO</td>\n",
       "      <td>873.0</td>\n",
       "      <td>8.884002</td>\n",
       "      <td>857.882245</td>\n",
       "      <td>858.7</td>\n",
       "      <td>863.5</td>\n",
       "      <td>751.8</td>\n",
       "    </tr>\n",
       "    <tr>\n",
       "      <th>1</th>\n",
       "      <td>2005</td>\n",
       "      <td>ENTRERRIOS</td>\n",
       "      <td>529.0</td>\n",
       "      <td>141.719878</td>\n",
       "      <td>813.076938</td>\n",
       "      <td>790.7</td>\n",
       "      <td>1104.9</td>\n",
       "      <td>605.7</td>\n",
       "    </tr>\n",
       "    <tr>\n",
       "      <th>2</th>\n",
       "      <td>2005</td>\n",
       "      <td>TURBO</td>\n",
       "      <td>935.0</td>\n",
       "      <td>36.287998</td>\n",
       "      <td>1003.708770</td>\n",
       "      <td>1008.9</td>\n",
       "      <td>1014.4</td>\n",
       "      <td>749.5</td>\n",
       "    </tr>\n",
       "    <tr>\n",
       "      <th>3</th>\n",
       "      <td>2006</td>\n",
       "      <td>BELLO</td>\n",
       "      <td>1614.0</td>\n",
       "      <td>1.870818</td>\n",
       "      <td>858.248947</td>\n",
       "      <td>858.5</td>\n",
       "      <td>863.5</td>\n",
       "      <td>851.8</td>\n",
       "    </tr>\n",
       "    <tr>\n",
       "      <th>4</th>\n",
       "      <td>2006</td>\n",
       "      <td>ENTRERRIOS</td>\n",
       "      <td>1057.0</td>\n",
       "      <td>107.266254</td>\n",
       "      <td>684.715705</td>\n",
       "      <td>641.9</td>\n",
       "      <td>1132.0</td>\n",
       "      <td>582.2</td>\n",
       "    </tr>\n",
       "  </tbody>\n",
       "</table>\n",
       "</div>"
      ],
      "text/plain": [
       "level_2   año   municipio  conteo  desviación estándar        media  mediana  \\\n",
       "0        2005       BELLO   873.0             8.884002   857.882245    858.7   \n",
       "1        2005  ENTRERRIOS   529.0           141.719878   813.076938    790.7   \n",
       "2        2005       TURBO   935.0            36.287998  1003.708770   1008.9   \n",
       "3        2006       BELLO  1614.0             1.870818   858.248947    858.5   \n",
       "4        2006  ENTRERRIOS  1057.0           107.266254   684.715705    641.9   \n",
       "\n",
       "level_2  máximo  mínimo  \n",
       "0         863.5   751.8  \n",
       "1        1104.9   605.7  \n",
       "2        1014.4   749.5  \n",
       "3         863.5   851.8  \n",
       "4        1132.0   582.2  "
      ]
     },
     "execution_count": 27,
     "metadata": {},
     "output_type": "execute_result"
    }
   ],
   "source": [
    "estadisticas_pivot_pres.head()"
   ]
  }
 ],
 "metadata": {
  "kernelspec": {
   "display_name": "Python 3 (ipykernel)",
   "language": "python",
   "name": "python3"
  },
  "language_info": {
   "codemirror_mode": {
    "name": "ipython",
    "version": 3
   },
   "file_extension": ".py",
   "mimetype": "text/x-python",
   "name": "python",
   "nbconvert_exporter": "python",
   "pygments_lexer": "ipython3",
   "version": "3.11.5"
  }
 },
 "nbformat": 4,
 "nbformat_minor": 5
}
